{
  "nbformat": 4,
  "nbformat_minor": 0,
  "metadata": {
    "colab": {
      "provenance": [],
      "authorship_tag": "ABX9TyMFWHl1tCClgiSq+0pkoVAM",
      "include_colab_link": true
    },
    "kernelspec": {
      "name": "python3",
      "display_name": "Python 3"
    },
    "language_info": {
      "name": "python"
    }
  },
  "cells": [
    {
      "cell_type": "markdown",
      "metadata": {
        "id": "view-in-github",
        "colab_type": "text"
      },
      "source": [
        "<a href=\"https://colab.research.google.com/github/cookieukw/IA-Simples/blob/main/IA_Simples.ipynb\" target=\"_parent\"><img src=\"https://colab.research.google.com/assets/colab-badge.svg\" alt=\"Open In Colab\"/></a>"
      ]
    },
    {
      "cell_type": "markdown",
      "source": [
        "### importando as dependências"
      ],
      "metadata": {
        "id": "cdb8hTmNj1Fu"
      }
    },
    {
      "cell_type": "code",
      "source": [
        "import tensorflow as tf\n",
        "from tensorflow import keras\n",
        "from tensorflow.keras.layers import Embedding, LSTM, Dense\n",
        "from tensorflow.keras.preprocessing.text import Tokenizer\n",
        "from tensorflow.keras.preprocessing.sequence import pad_sequences\n",
        "import numpy as np\n"
      ],
      "metadata": {
        "id": "cK7e0UQ4j5IO"
      },
      "execution_count": 11,
      "outputs": []
    },
    {
      "cell_type": "markdown",
      "source": [
        "### Montar o google drive\n"
      ],
      "metadata": {
        "id": "b7LZ8Ul8m43I"
      }
    },
    {
      "cell_type": "code",
      "source": [
        "from google.colab import drive\n",
        "drive.mount('/content/drive')\n"
      ],
      "metadata": {
        "id": "DfVn4r-pm7_F"
      },
      "execution_count": null,
      "outputs": []
    },
    {
      "cell_type": "markdown",
      "source": [
        "### Exemplo de dados de treinamento (substitua com seus próprios dados)"
      ],
      "metadata": {
        "id": "4OUL-oaEnm2V"
      }
    },
    {
      "cell_type": "code",
      "source": [
        "questions = [\"Qual é o seu nome?\", \"Como você está?\", \"O que você gosta de fazer?\"]\n",
        "answers = [\"Meu nome é ChatGPT.\", \"Estou bem, obrigado!\", \"Eu gosto de ajudar as pessoas.\"]"
      ],
      "metadata": {
        "id": "SquHrRJWj_s3"
      },
      "execution_count": 12,
      "outputs": []
    },
    {
      "cell_type": "markdown",
      "source": [
        "### Tokenização dos dados\n"
      ],
      "metadata": {
        "id": "BrhPPJ5KkB-X"
      }
    },
    {
      "cell_type": "code",
      "source": [
        "tokenizer = Tokenizer()\n",
        "tokenizer.fit_on_texts(questions + answers)\n",
        "question_seqs = tokenizer.texts_to_sequences(questions)\n",
        "answer_seqs = tokenizer.texts_to_sequences(answers)"
      ],
      "metadata": {
        "id": "yr3M7YbckFlo"
      },
      "execution_count": 13,
      "outputs": []
    },
    {
      "cell_type": "markdown",
      "source": [
        "### Padding das sequências para ter o mesmo comprimento"
      ],
      "metadata": {
        "id": "_wiooTWZkH04"
      }
    },
    {
      "cell_type": "code",
      "source": [
        "max_seq_length = max(len(seq) for seq in question_seqs + answer_seqs)\n",
        "question_seqs = pad_sequences(question_seqs, maxlen=max_seq_length, padding='post')\n",
        "answer_seqs = pad_sequences(answer_seqs, maxlen=max_seq_length, padding='post')\n"
      ],
      "metadata": {
        "id": "lvZWP6B3kK3I"
      },
      "execution_count": 14,
      "outputs": []
    },
    {
      "cell_type": "markdown",
      "source": [
        "### Conversão das respostas em formato one-hot"
      ],
      "metadata": {
        "id": "OEtd8LEjkNPL"
      }
    },
    {
      "cell_type": "code",
      "source": [
        "vocab_size = len(tokenizer.word_index) + 1\n",
        "answer_one_hot = []\n",
        "for seq in answer_seqs:\n",
        "    one_hot_seq = tf.keras.utils.to_categorical(seq, num_classes=vocab_size)\n",
        "    answer_one_hot.append(one_hot_seq)\n",
        "\n",
        "answer_one_hot = np.array(answer_one_hot)\n"
      ],
      "metadata": {
        "id": "n89X3yxlkQk2"
      },
      "execution_count": 15,
      "outputs": []
    },
    {
      "cell_type": "markdown",
      "source": [
        "### Construção do modelo"
      ],
      "metadata": {
        "id": "XiIgBJbWkUEU"
      }
    },
    {
      "cell_type": "code",
      "source": [
        "model = keras.Sequential([\n",
        "    Embedding(input_dim=vocab_size, output_dim=128, input_length=max_seq_length),\n",
        "    LSTM(128, return_sequences=True),  # Use return_sequences=True para saída em cada etapa de tempo\n",
        "    Dense(vocab_size, activation='softmax')\n",
        "])"
      ],
      "metadata": {
        "id": "9RGCsbQTkZJE"
      },
      "execution_count": 16,
      "outputs": []
    },
    {
      "cell_type": "markdown",
      "source": [
        "### Salvar modelo no google drive"
      ],
      "metadata": {
        "id": "slF95IoUnMQm"
      }
    },
    {
      "cell_type": "code",
      "source": [
        "# Substitua 'meu_modelo.h5' pelo nome de arquivo desejado\n",
        "model.save('/content/drive/My Drive/meu_modelo.h5')\n"
      ],
      "metadata": {
        "id": "qhnrgc0wnPGO"
      },
      "execution_count": null,
      "outputs": []
    },
    {
      "cell_type": "markdown",
      "source": [
        "### Compilação do modelo"
      ],
      "metadata": {
        "id": "m-TJqWyJkcGv"
      }
    },
    {
      "cell_type": "code",
      "source": [
        "model.compile(optimizer='adam', loss='categorical_crossentropy', metrics=['accuracy'])"
      ],
      "metadata": {
        "id": "3A1C3OBykcgG"
      },
      "execution_count": 17,
      "outputs": []
    },
    {
      "cell_type": "markdown",
      "source": [
        "### Treinamento do modelo"
      ],
      "metadata": {
        "id": "bf7WcjtOklwX"
      }
    },
    {
      "cell_type": "code",
      "source": [
        "model.fit(question_seqs, answer_one_hot, epochs=100)"
      ],
      "metadata": {
        "id": "XeWAkoj6kmWG"
      },
      "execution_count": null,
      "outputs": []
    },
    {
      "cell_type": "markdown",
      "source": [
        " ### Agora você pode usar o modelo treinado para responder a perguntas"
      ],
      "metadata": {
        "id": "TnoAgj59kn_j"
      }
    },
    {
      "cell_type": "code",
      "source": [
        "input_question = \"Qual é o seu nome?\"\n",
        "input_seq = tokenizer.texts_to_sequences([input_question])\n",
        "input_seq = pad_sequences(input_seq, maxlen=max_seq_length, padding='post')\n",
        "output_seq = model.predict(input_seq)"
      ],
      "metadata": {
        "colab": {
          "base_uri": "https://localhost:8080/"
        },
        "id": "PXP2gqbTkoIy",
        "outputId": "b3e776d3-e208-4ce8-95f7-b6e476ba7244"
      },
      "execution_count": 19,
      "outputs": [
        {
          "output_type": "stream",
          "name": "stdout",
          "text": [
            "1/1 [==============================] - 1s 625ms/step\n"
          ]
        }
      ]
    },
    {
      "cell_type": "markdown",
      "source": [
        "### Converter as sequências de saída em palavras"
      ],
      "metadata": {
        "id": "K4WDe6gHkoSW"
      }
    },
    {
      "cell_type": "code",
      "source": [
        "output_words = []\n",
        "for seq in output_seq[0]:\n",
        "    word = tokenizer.index_word.get(np.argmax(seq))\n",
        "    if word:\n",
        "        output_words.append(word)"
      ],
      "metadata": {
        "id": "nHiI_ylOkoYm"
      },
      "execution_count": 20,
      "outputs": []
    },
    {
      "cell_type": "markdown",
      "source": [
        "### Juntar as palavras em uma frase de resposta"
      ],
      "metadata": {
        "id": "I76Llg_Qkohi"
      }
    },
    {
      "cell_type": "code",
      "source": [
        "output_answer = \" \".join(output_words)\n",
        "print(\"Resposta:\", output_answer)"
      ],
      "metadata": {
        "colab": {
          "base_uri": "https://localhost:8080/"
        },
        "id": "uH5T--6wkom1",
        "outputId": "fe9a4523-14bc-4845-bd3d-4ff937aa0bf8"
      },
      "execution_count": 22,
      "outputs": [
        {
          "output_type": "stream",
          "name": "stdout",
          "text": [
            "Resposta: nome nome é chatgpt\n"
          ]
        }
      ]
    },
    {
      "cell_type": "markdown",
      "source": [],
      "metadata": {
        "id": "MvIESpZmk8wN"
      }
    }
  ]
}