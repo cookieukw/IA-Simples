{
  "nbformat": 4,
  "nbformat_minor": 0,
  "metadata": {
    "colab": {
      "provenance": [],
      "authorship_tag": "ABX9TyM5YGtqlirSdAEBYut4lu1Y",
      "include_colab_link": true
    },
    "kernelspec": {
      "name": "python3",
      "display_name": "Python 3"
    },
    "language_info": {
      "name": "python"
    }
  },
  "cells": [
    {
      "cell_type": "markdown",
      "metadata": {
        "id": "view-in-github",
        "colab_type": "text"
      },
      "source": [
        "<a href=\"https://colab.research.google.com/github/cookieukw/IA-Simples/blob/main/IA_Simples.ipynb\" target=\"_parent\"><img src=\"https://colab.research.google.com/assets/colab-badge.svg\" alt=\"Open In Colab\"/></a>"
      ]
    },
    {
      "cell_type": "markdown",
      "source": [
        "### importando as dependências"
      ],
      "metadata": {
        "id": "cdb8hTmNj1Fu"
      }
    },
    {
      "cell_type": "code",
      "source": [
        "import tensorflow as tf\n",
        "from tensorflow import keras\n",
        "from tensorflow.keras.layers import Embedding, LSTM, Dense\n",
        "from tensorflow.keras.preprocessing.text import Tokenizer\n",
        "from tensorflow.keras.preprocessing.sequence import pad_sequences\n",
        "import numpy as np\n"
      ],
      "metadata": {
        "id": "cK7e0UQ4j5IO"
      },
      "execution_count": 1,
      "outputs": []
    },
    {
      "cell_type": "markdown",
      "source": [
        "### Montar o google drive\n"
      ],
      "metadata": {
        "id": "b7LZ8Ul8m43I"
      }
    },
    {
      "cell_type": "code",
      "source": [
        "from google.colab import drive\n",
        "drive.mount('/content/drive')\n"
      ],
      "metadata": {
        "colab": {
          "base_uri": "https://localhost:8080/"
        },
        "id": "DfVn4r-pm7_F",
        "outputId": "844c4f94-f4ef-4bf1-f874-2ef540a6bc50"
      },
      "execution_count": 3,
      "outputs": [
        {
          "output_type": "stream",
          "name": "stdout",
          "text": [
            "Mounted at /content/drive\n"
          ]
        }
      ]
    },
    {
      "cell_type": "markdown",
      "source": [
        "### Exemplo de dados de treinamento (substitua com seus próprios dados)"
      ],
      "metadata": {
        "id": "4OUL-oaEnm2V"
      }
    },
    {
      "cell_type": "code",
      "source": [
        "questions = [\"Qual é o seu nome?\", \"Como você está?\", \"O que você gosta de fazer?\"]\n",
        "answers = [\"Meu nome é ChatGPT.\", \"Estou bem, obrigado!\", \"Eu gosto de ajudar as pessoas.\"]"
      ],
      "metadata": {
        "id": "SquHrRJWj_s3"
      },
      "execution_count": 4,
      "outputs": []
    },
    {
      "cell_type": "markdown",
      "source": [
        "### Tokenização dos dados\n"
      ],
      "metadata": {
        "id": "BrhPPJ5KkB-X"
      }
    },
    {
      "cell_type": "code",
      "source": [
        "tokenizer = Tokenizer()\n",
        "tokenizer.fit_on_texts(questions + answers)\n",
        "question_seqs = tokenizer.texts_to_sequences(questions)\n",
        "answer_seqs = tokenizer.texts_to_sequences(answers)"
      ],
      "metadata": {
        "id": "yr3M7YbckFlo"
      },
      "execution_count": 5,
      "outputs": []
    },
    {
      "cell_type": "markdown",
      "source": [
        "### Padding das sequências para ter o mesmo comprimento"
      ],
      "metadata": {
        "id": "_wiooTWZkH04"
      }
    },
    {
      "cell_type": "code",
      "source": [
        "max_seq_length = max(len(seq) for seq in question_seqs + answer_seqs)\n",
        "question_seqs = pad_sequences(question_seqs, maxlen=max_seq_length, padding='post')\n",
        "answer_seqs = pad_sequences(answer_seqs, maxlen=max_seq_length, padding='post')\n"
      ],
      "metadata": {
        "id": "lvZWP6B3kK3I"
      },
      "execution_count": 6,
      "outputs": []
    },
    {
      "cell_type": "markdown",
      "source": [
        "### Conversão das respostas em formato one-hot"
      ],
      "metadata": {
        "id": "OEtd8LEjkNPL"
      }
    },
    {
      "cell_type": "code",
      "source": [
        "vocab_size = len(tokenizer.word_index) + 1\n",
        "answer_one_hot = []\n",
        "for seq in answer_seqs:\n",
        "    one_hot_seq = tf.keras.utils.to_categorical(seq, num_classes=vocab_size)\n",
        "    answer_one_hot.append(one_hot_seq)\n",
        "\n",
        "answer_one_hot = np.array(answer_one_hot)\n"
      ],
      "metadata": {
        "id": "n89X3yxlkQk2"
      },
      "execution_count": 7,
      "outputs": []
    },
    {
      "cell_type": "markdown",
      "source": [
        "### Construção do modelo"
      ],
      "metadata": {
        "id": "XiIgBJbWkUEU"
      }
    },
    {
      "cell_type": "code",
      "source": [
        "model = keras.Sequential([\n",
        "    Embedding(input_dim=vocab_size, output_dim=200, input_length=max_seq_length),\n",
        "    LSTM(200, return_sequences=True),  # Use return_sequences=True para saída em cada etapa de tempo\n",
        "    Dense(vocab_size, activation='softmax')\n",
        "])"
      ],
      "metadata": {
        "id": "9RGCsbQTkZJE"
      },
      "execution_count": 8,
      "outputs": []
    },
    {
      "cell_type": "markdown",
      "source": [
        "### Compilação do modelo"
      ],
      "metadata": {
        "id": "m-TJqWyJkcGv"
      }
    },
    {
      "cell_type": "code",
      "source": [
        "model.compile(optimizer='adam', loss='categorical_crossentropy', metrics=['accuracy'])"
      ],
      "metadata": {
        "id": "3A1C3OBykcgG"
      },
      "execution_count": 12,
      "outputs": []
    },
    {
      "cell_type": "markdown",
      "source": [
        "### Treinamento do modelo"
      ],
      "metadata": {
        "id": "bf7WcjtOklwX"
      }
    },
    {
      "cell_type": "code",
      "source": [
        "model.fit(question_seqs, answer_one_hot, epochs=1000)"
      ],
      "metadata": {
        "colab": {
          "base_uri": "https://localhost:8080/"
        },
        "id": "XeWAkoj6kmWG",
        "outputId": "ac20984a-6fca-4106-e38b-cfe578759471"
      },
      "execution_count": 13,
      "outputs": [
        {
          "output_type": "stream",
          "name": "stdout",
          "text": [
            "Epoch 1/1000\n",
            "1/1 [==============================] - 3s 3s/step - loss: 3.1319 - accuracy: 0.0556\n",
            "Epoch 2/1000\n",
            "1/1 [==============================] - 0s 25ms/step - loss: 3.1124 - accuracy: 0.4444\n",
            "Epoch 3/1000\n",
            "1/1 [==============================] - 0s 22ms/step - loss: 3.0925 - accuracy: 0.4444\n",
            "Epoch 4/1000\n",
            "1/1 [==============================] - 0s 25ms/step - loss: 3.0714 - accuracy: 0.4444\n",
            "Epoch 5/1000\n",
            "1/1 [==============================] - 0s 25ms/step - loss: 3.0486 - accuracy: 0.4444\n",
            "Epoch 6/1000\n",
            "1/1 [==============================] - 0s 24ms/step - loss: 3.0231 - accuracy: 0.4444\n",
            "Epoch 7/1000\n",
            "1/1 [==============================] - 0s 23ms/step - loss: 2.9942 - accuracy: 0.4444\n",
            "Epoch 8/1000\n",
            "1/1 [==============================] - 0s 27ms/step - loss: 2.9608 - accuracy: 0.3889\n",
            "Epoch 9/1000\n",
            "1/1 [==============================] - 0s 23ms/step - loss: 2.9215 - accuracy: 0.3333\n",
            "Epoch 10/1000\n",
            "1/1 [==============================] - 0s 31ms/step - loss: 2.8749 - accuracy: 0.3333\n",
            "Epoch 11/1000\n",
            "1/1 [==============================] - 0s 31ms/step - loss: 2.8192 - accuracy: 0.2778\n",
            "Epoch 12/1000\n",
            "1/1 [==============================] - 0s 27ms/step - loss: 2.7523 - accuracy: 0.2778\n",
            "Epoch 13/1000\n",
            "1/1 [==============================] - 0s 22ms/step - loss: 2.6725 - accuracy: 0.2778\n",
            "Epoch 14/1000\n",
            "1/1 [==============================] - 0s 21ms/step - loss: 2.5789 - accuracy: 0.2778\n",
            "Epoch 15/1000\n",
            "1/1 [==============================] - 0s 23ms/step - loss: 2.4745 - accuracy: 0.2778\n",
            "Epoch 16/1000\n",
            "1/1 [==============================] - 0s 26ms/step - loss: 2.3675 - accuracy: 0.2778\n",
            "Epoch 17/1000\n",
            "1/1 [==============================] - 0s 29ms/step - loss: 2.2716 - accuracy: 0.2778\n",
            "Epoch 18/1000\n",
            "1/1 [==============================] - 0s 27ms/step - loss: 2.2022 - accuracy: 0.2778\n",
            "Epoch 19/1000\n",
            "1/1 [==============================] - 0s 25ms/step - loss: 2.1677 - accuracy: 0.2778\n",
            "Epoch 20/1000\n",
            "Epoch 1000/1000\n",
            "1/1 [==============================] - 0s 29ms/step - loss: 1.6565e-04 - accuracy: 1.0000\n"
          ]
        },
        {
          "output_type": "execute_result",
          "data": {
            "text/plain": [
              "<keras.src.callbacks.History at 0x7a5ca53fa7d0>"
            ]
          },
          "metadata": {},
          "execution_count": 13
        }
      ]
    },
    {
      "cell_type": "markdown",
      "source": [
        "### Salvar modelo no google drive"
      ],
      "metadata": {
        "id": "slF95IoUnMQm"
      }
    },
    {
      "cell_type": "code",
      "source": [
        "# Substitua 'meu_modelo.keras' pelo nome de arquivo desejado\n",
        "model.save('/content/drive/My Drive/meu_modelo.keras')\n"
      ],
      "metadata": {
        "id": "qhnrgc0wnPGO"
      },
      "execution_count": 14,
      "outputs": []
    },
    {
      "cell_type": "markdown",
      "source": [
        " ### Agora você pode usar o modelo treinado para responder a perguntas"
      ],
      "metadata": {
        "id": "TnoAgj59kn_j"
      }
    },
    {
      "cell_type": "code",
      "source": [
        "input_question = \"Qual é o seu nome?\"\n",
        "input_seq = tokenizer.texts_to_sequences([input_question])\n",
        "input_seq = pad_sequences(input_seq, maxlen=max_seq_length, padding='post')\n",
        "output_seq = model.predict(input_seq)"
      ],
      "metadata": {
        "colab": {
          "base_uri": "https://localhost:8080/"
        },
        "id": "PXP2gqbTkoIy",
        "outputId": "59e43163-80cc-45c5-efc2-ce9b7561dbb6"
      },
      "execution_count": 15,
      "outputs": [
        {
          "output_type": "stream",
          "name": "stdout",
          "text": [
            "1/1 [==============================] - 1s 701ms/step\n"
          ]
        }
      ]
    },
    {
      "cell_type": "markdown",
      "source": [
        "### Converter as sequências de saída em palavras"
      ],
      "metadata": {
        "id": "K4WDe6gHkoSW"
      }
    },
    {
      "cell_type": "code",
      "source": [
        "output_words = []\n",
        "for seq in output_seq[0]:\n",
        "    word = tokenizer.index_word.get(np.argmax(seq))\n",
        "    if word:\n",
        "        output_words.append(word)"
      ],
      "metadata": {
        "id": "nHiI_ylOkoYm"
      },
      "execution_count": 16,
      "outputs": []
    },
    {
      "cell_type": "markdown",
      "source": [
        "### Juntar as palavras em uma frase de resposta"
      ],
      "metadata": {
        "id": "I76Llg_Qkohi"
      }
    },
    {
      "cell_type": "code",
      "source": [
        "output_answer = \" \".join(output_words)\n",
        "print(\"Resposta:\", output_answer)"
      ],
      "metadata": {
        "colab": {
          "base_uri": "https://localhost:8080/"
        },
        "id": "uH5T--6wkom1",
        "outputId": "764eb76b-680a-4950-ac1e-544cd3605012"
      },
      "execution_count": 17,
      "outputs": [
        {
          "output_type": "stream",
          "name": "stdout",
          "text": [
            "Resposta: meu nome é chatgpt\n"
          ]
        }
      ]
    },
    {
      "cell_type": "markdown",
      "source": [
        "### Tamanho da Camada LSTM:\n",
        "\n",
        "```python\n",
        "LSTM(128, return_sequences=True)```\n",
        "Você pode ajustar o valor 128 para aumentar ou diminuir o tamanho da camada LSTM.\n",
        "\n",
        "### Tamanho do Embedding:\n",
        "\n",
        "```python\n",
        "Embedding(input_dim=vocab_size, output_dim=128, input_length=max_seq_length) ```\n",
        "O valor output_dim define a dimensionalidade do espaço de embedding. Você pode ajustá-lo para um valor maior ou menor.\n",
        "\n",
        "### Número de Épocas de Treinamento:\n",
        "\n",
        "```python\n",
        "model.fit(question_seqs, answer_one_hot, epochs=100)\n",
        "Você pode ajustar o número de épocas de treinamento alterando epochs=100 para um valor maior ou menor, dependendo do desempenho desejado.\n",
        "\n",
        "### Taxa de Aprendizado (Otimizador):\n",
        "A taxa de aprendizado pode ser configurada ao compilar o modelo com um otimizador, como o Adam. Por exemplo:\n",
        "\n",
        "```python\n",
        "model.compile(optimizer='adam', loss='categorical_crossentropy', metrics=['accuracy'])\n",
        "Você pode especificar a taxa de aprendizado no otimizador, se necessário.\n",
        "\n",
        "Função de Ativação:\n",
        "A função de ativação na camada de saída pode ser alterada, dependendo do tipo de tarefa. Atualmente, está configurada como softmax:\n",
        "\n",
        "```python\n",
        "Dense(vocab_size, activation='softmax')```\n",
        "Você pode usar outras funções de ativação, como sigmoid, relu, ou qualquer outra adequada ao seu problema.\n",
        "\n",
        "Lembre-se de que fazer ajustes em um modelo de aprendizado profundo pode exigir experimentação para encontrar a combinação ideal de hiperparâmetros que funcione para o seu caso específico. Os valores sugeridos acima são apenas pontos de partida, e você pode ajustá-los com base em seus resultados de treinamento e validação."
      ],
      "metadata": {
        "id": "MvIESpZmk8wN"
      }
    }
  ]
}
